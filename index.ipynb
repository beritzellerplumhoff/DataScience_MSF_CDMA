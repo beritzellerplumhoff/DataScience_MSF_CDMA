{
 "cells": [
  {
   "cell_type": "markdown",
   "id": "b8b200f5-7973-4866-8a3f-c5cb0f30e1fb",
   "metadata": {},
   "source": [
    "# Introduction to data science for materials science and engineering"
   ]
  },
  {
   "cell_type": "markdown",
   "id": "6b77fa19-b9c2-45d6-9148-2374819a4561",
   "metadata": {},
   "source": [
    "Copyright (C) 2024, B. Zeller-Plumhoff\n",
    "\n",
    "This is a collection of [jupyter](https://jupyter.org/) notebooks assembled for the BSc. course \"Introduction to data science for materials science and engineering\" at the Faculty of Mechanical Engineering and Marine Technologies at the University of Rostock. The course is taught by Berit Zeller-Plumhoff at the chair Data-Driven Analysis and Design of Materials. All required resources are available on GitHub."
   ]
  },
  {
   "cell_type": "markdown",
   "id": "2288b796-ae5f-4a43-b7e4-158d56c630ec",
   "metadata": {},
   "source": [
    "### 1. Introduction to working with Jupyter\n",
    "\n",
    "[Introduction](Introduction/WorkingwithJupyter.ipynb)\n",
    "\n",
    "### 2. Linear regression\n",
    "\n",
    "[Empty Notebook](LinearRegression/LinRegression_empty.ipynb)\n",
    "\n",
    "[Solution](LinearRegression/LinRegression.ipynb)\n"
   ]
  }
 ],
 "metadata": {
  "kernelspec": {
   "display_name": "Python 3 (ipykernel)",
   "language": "python",
   "name": "python3"
  },
  "language_info": {
   "codemirror_mode": {
    "name": "ipython",
    "version": 3
   },
   "file_extension": ".py",
   "mimetype": "text/x-python",
   "name": "python",
   "nbconvert_exporter": "python",
   "pygments_lexer": "ipython3",
   "version": "3.12.5"
  }
 },
 "nbformat": 4,
 "nbformat_minor": 5
}
