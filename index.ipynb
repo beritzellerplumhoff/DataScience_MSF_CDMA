{
 "cells": [
  {
   "cell_type": "markdown",
   "id": "b8b200f5-7973-4866-8a3f-c5cb0f30e1fb",
   "metadata": {},
   "source": [
    "# Introduction to data science for materials science and engineering"
   ]
  },
  {
   "cell_type": "markdown",
   "id": "6b77fa19-b9c2-45d6-9148-2374819a4561",
   "metadata": {},
   "source": [
    "Copyright (C) 2024-2025, B. Zeller-Plumhoff\n",
    "\n",
    "This is a collection of [jupyter](https://jupyter.org/) notebooks assembled for the BSc. course \"Introduction to data science for materials science and engineering\" at the Faculty of Mechanical Engineering and Marine Technologies at the University of Rostock. The course is taught by Berit Zeller-Plumhoff at the chair Data-Driven Analysis and Design of Materials. All required resources are available on GitHub."
   ]
  },
  {
   "cell_type": "markdown",
   "id": "2288b796-ae5f-4a43-b7e4-158d56c630ec",
   "metadata": {},
   "source": [
    "### 1. Introduction to working with Jupyter\n",
    "\n",
    "[Introduction](Introduction/WorkingwithJupyter.ipynb)\n",
    "\n",
    "### 2. Linear regression\n",
    "\n",
    "[Empty notebook](LinearRegression/LinRegression_empty.ipynb)\n",
    "\n",
    "[Solution](LinearRegression/LinRegression.ipynb)\n",
    "\n",
    "### 3. Optimization and loss functions\n",
    "\n",
    "Python beginners/Intermediate programmers: [Half empty notebook](Optimization_Errors/DataScience_Errors_Optimization_halfempty.ipynb)\n",
    "\n",
    "Advanced programmers: [Empty notebook](Optimization_Errors/DataScience_Errors_Optimization_empty.ipynb)\n",
    "\n",
    "Solution: [Notebook](Optimization_Errors/DataScience_Errors_Optimization.ipynb)\n",
    "\n",
    "### 4. Logistic regression\n",
    "\n",
    "Python beginners/Intermediate programmers: [Half empty notebook](LogisticRegression/LogisticRegression_halfempty.ipynb)\n",
    "\n",
    "Advanced programmers: [Empty notebook](LogisticRegression/LogisticRegression_empty.ipynb)\n",
    "\n",
    "Solution: [Notebook](LogisticRegression/LogisticRegression.ipynb)\n",
    "\n",
    "### 5. Classification metrics, knn and decision trees\n",
    "\n",
    "Python beginners/Intermediate programmers: [Half empty notebook](knn_DecTree/Classification_ROC_knn_DecTree_halfempty.ipynb)\n",
    "\n",
    "Advanced programmers: [Empty notebook](knn_DecTree/Classification_ROC_knn_DecTree_empty.ipynb)\n",
    "\n",
    "Solution: [Notebook](knn_DecTree/Classification_ROC_knn_DecTree.ipynb)\n",
    "\n",
    "### 5. Random forests\n",
    "\n",
    "All programmers: [Empty notebook](RandomForests/Classification_ROC_knn_DecTree_RF_empty.ipynb)\n",
    "\n",
    "Solution: [Notebook](RandomForests/Classification_ROC_knn_DecTree_RF_empty.ipynb)\n",
    "\n",
    "### 6. Support vector machines\n",
    "\n",
    "All programmers: [Empty notebook](SupportVectorMachines/SVM_empty.ipynb)\n",
    "\n",
    "Solution: [Notebook](SupportVectorMachines/SVM.ipynb)\n",
    "\n",
    "### 7. Neural networks\n",
    "\n",
    "Python beginners/Intermediate programmers: [Half empty notebook](NeuralNetworks/NN_half_empty.ipynb)\n",
    "\n",
    "Advanced programmers: [Empty notebook](NeuralNetworks/NN_empty.ipynb)\n",
    "\n",
    "Solution: [Notebook](NeuralNetworks/NN.ipynb)\n",
    "\n",
    "### 8. PCA and k-means clustering\n",
    "\n",
    "Python beginners/Intermediate programmers: [Half empty notebook](PCA_kmeans/NN_BP_PCA_kmeans_half_empty.ipynb)\n",
    "\n",
    "Advanced programmers: [Empty notebook](PCA_kmeans/NN_BP_PCA_kmeans_empty.ipynb)\n",
    "\n",
    "Solution: [Notebook](PCA_kmeans/NN_BP_PCA_kmeans.ipynb)"
   ]
  }
 ],
 "metadata": {
  "kernelspec": {
   "display_name": "Python 3 (ipykernel)",
   "language": "python",
   "name": "python3"
  },
  "language_info": {
   "codemirror_mode": {
    "name": "ipython",
    "version": 3
   },
   "file_extension": ".py",
   "mimetype": "text/x-python",
   "name": "python",
   "nbconvert_exporter": "python",
   "pygments_lexer": "ipython3",
   "version": "3.12.5"
  }
 },
 "nbformat": 4,
 "nbformat_minor": 5
}
